{
 "cells": [
  {
   "cell_type": "code",
   "execution_count": 1,
   "metadata": {},
   "outputs": [
    {
     "name": "stdout",
     "output_type": "stream",
     "text": [
      "OpenclFibre is not activated, check if pyopencl and reikna modules are installed\n"
     ]
    }
   ],
   "source": [
    "import os.path\n",
    "import numpy as np\n",
    "from itertools import cycle\n",
    "import matplotlib.pyplot as plt\n",
    "import matplotlib\n",
    "matplotlib.use('Qt5Agg')\n",
    "%matplotlib qt5\n",
    "\n",
    "from pyofss import Domain, System, Gaussian, Fibre, Filter, Splitter\n",
    "from pyofss import temporal_power, spectral_power, lambda_to_nu, nu_to_lambda\n",
    "from pyofss import single_plot, map_plot, waterfall_plot, labels\n",
    "from pyofss.field import energy"
   ]
  },
  {
   "cell_type": "code",
   "execution_count": 2,
   "metadata": {},
   "outputs": [
    {
     "name": "stdout",
     "output_type": "stream",
     "text": [
      "gamma_passive =  4.336221744085291\n",
      "gamma_active =  5.652040756083586\n"
     ]
    }
   ],
   "source": [
    "from pyofss.domain import lambda_to_omega\n",
    "from pyofss.modules.nonlinearity import calculate_gamma\n",
    "gamma_passive = calculate_gamma(2.7*(10**(-20)), 37.8, lambda_to_omega(1035))\n",
    "gamma_active = calculate_gamma(2.7*(10**(-20)), 29, lambda_to_omega(1035))\n",
    "print(\"gamma_passive = \", gamma_passive)\n",
    "print(\"gamma_active = \", gamma_active)"
   ]
  },
  {
   "cell_type": "code",
   "execution_count": 3,
   "metadata": {},
   "outputs": [
    {
     "name": "stdout",
     "output_type": "stream",
     "text": [
      "\n",
      "Generating single_plot...\n",
      "initial energy =  0.010644670194312263\n"
     ]
    }
   ],
   "source": [
    "domain = Domain(samples_per_bit = 2**14, bit_width = 200.0, total_bits = 1, centre_nu = lambda_to_nu(1028.0))\n",
    "gaussian = Gaussian(name=\"initial_pulse\", peak_power = 1, width = 10., C = 0, using_fwhm=True)\n",
    "A = gaussian.generate(domain.t)\n",
    "single_plot(domain.t, temporal_power(A), label=\"initial field\")\n",
    "E = energy(A, domain.t)\n",
    "print(\"initial energy = \", E)"
   ]
  },
  {
   "cell_type": "code",
   "execution_count": 4,
   "metadata": {},
   "outputs": [
    {
     "name": "stdout",
     "output_type": "stream",
     "text": [
      "\n",
      "Generating single_plot...\n"
     ]
    }
   ],
   "source": [
    "single_plot(domain.nu, spectral_power(A), label=\"initial field\")"
   ]
  },
  {
   "cell_type": "code",
   "execution_count": 5,
   "metadata": {},
   "outputs": [
    {
     "name": "stdout",
     "output_type": "stream",
     "text": [
      "before fibre 0.005665450177283992\n",
      "Directory:  C:/Users/Karin/PycharmProjects/pyofss-master/amplification_fiber1  found...\n"
     ]
    },
    {
     "name": "stderr",
     "output_type": "stream",
     "text": [
      "c:\\Users\\Karin\\PycharmProjects\\pyofss-master\\pyofss\\modules\\storage.py:97: UserWarning: Directory is not empty\n",
      "  warnings.warn(\"Directory is not empty\")\n",
      "  2%|▏         | 2/100 [00:00<00:06, 15.05it/s]"
     ]
    },
    {
     "name": "stdout",
     "output_type": "stream",
     "text": [
      "Caching linear factor\n"
     ]
    },
    {
     "name": "stderr",
     "output_type": "stream",
     "text": [
      "100%|██████████| 100/100 [00:07<00:00, 13.75it/s]\n"
     ]
    }
   ],
   "source": [
    "dir = 'C:/Users/Karin/PycharmProjects/pyofss-master/amplification_fiber1'\n",
    "sys = System( domain, A)\n",
    "print(\"before fibre\", np.max(spectral_power(sys.field)))\n",
    "# sys.add(Filter(name=\"filter_1\", width_nu=(Domain.vacuum_light_speed/(1040**2))*4, offset_nu=(lambda_to_nu(1040) - lambda_to_nu(1035)),\n",
    "#                  m=1, channel=0, using_fwhm=False, type_filt = \"reflected\"))\n",
    "# sys.add(Splitter(name=\"splitter\", loss = 0.55))\n",
    "# sys.add(Fibre(name=\"passive_fibre\", length=0.8, gamma=gamma_passive, beta=np.array([22.2, 63.8]), total_steps=1000, method='ss_symmetric', useAmplification = False))\n",
    "sys.add(Fibre(name=\"active_fibre_1\", length=0.5*1e-3, gamma=gamma_active, total_steps=100, traces=100, beta=np.array([0, 0, 20]), method='ss_symmetric', small_signal_gain = 25, E_sat = 25.0, useAmplification = True))\n",
    "# sys.add(Fibre(name=\"passive_fibre\", length=0.8, gamma=gamma_passive, beta=np.array([22.2, 63.8]), total_steps=2000, method='ss_symmetric', local_error=0.005, useAmplification = False))\n",
    "# sys.add(Splitter(name=\"splitter\", loss = 0.6))\n",
    "# sys.add(Filter(name=\"filter_2\", width_nu=(Domain.vacuum_light_speed/(1030**2))*4, offset_nu=(lambda_to_nu(1030) - lambda_to_nu(1035)),\n",
    "#                  m=1, channel=0, using_fwhm=False, type_filt = \"reflected\"))\n",
    "# sys.add(Splitter(name=\"splitter\", loss = 0.55))\n",
    "# sys.add(Fibre(name=\"passive_fibre\", length=0.8, gamma=gamma_passive, beta=np.array([22.2, 63.8]), self_steepening=False, raman_scattering=True,\n",
    "#                  total_steps=100, method='ss_symmetric', local_error=0.005, useAmplification = False))\n",
    "# sys.add(Fibre(name=\"active_fibre_2\", length=2.5, gamma=gamma_active, beta=np.array([24.9, 59]), self_steepening=False, raman_scattering=True,\n",
    "#                  total_steps=100, method='ss_symmetric', local_error=0.005, small_signal_gain = 25, E_sat = 36.6, useAmplification = True))\n",
    "# sys.add(Fibre(name=\"passive_fibre\", gamma=gamma_passive, beta=np.array([22.2, 63.8]), self_steepening=False, raman_scattering=True,\n",
    "#                  total_steps=100, method='ss_symmetric', local_error=0.005, useAmplification = False))\n",
    "# sys.add(Splitter(name=\"splitter\", loss = 0.6))\n",
    "\n",
    "# for i in range(10):      \n",
    "sys.run()"
   ]
  },
  {
   "cell_type": "code",
   "execution_count": 26,
   "metadata": {},
   "outputs": [
    {
     "name": "stdout",
     "output_type": "stream",
     "text": [
      "total pulse energy after fiber, Etot =  2.9882362741928596\n"
     ]
    }
   ],
   "source": [
    "E = energy(sys.field, domain.t)\n",
    "print(\"total pulse energy after fiber, Etot = \", E)"
   ]
  },
  {
   "cell_type": "code",
   "execution_count": 27,
   "metadata": {},
   "outputs": [
    {
     "name": "stdout",
     "output_type": "stream",
     "text": [
      "total pulse energy before fiber, Etot =  0.010644670194312263\n"
     ]
    }
   ],
   "source": [
    "E = energy(A, domain.t)\n",
    "print(\"total pulse energy before fiber, Etot = \", E)"
   ]
  },
  {
   "cell_type": "code",
   "execution_count": 6,
   "metadata": {},
   "outputs": [
    {
     "name": "stdout",
     "output_type": "stream",
     "text": [
      "Directory:  C:/Users/Karin/PycharmProjects/pyofss-master/amplification_fiber1  found...\n",
      "Directory is empty OK\n"
     ]
    }
   ],
   "source": [
    "dir = 'C:/Users/Karin/PycharmProjects/pyofss-master/amplification_fiber1'\n",
    "storage = sys['active_fibre_1'].stepper.storage\n",
    "(x, y, z) = storage.get_plot_data()\n",
    "storage.draw_animation()"
   ]
  },
  {
   "cell_type": "code",
   "execution_count": null,
   "metadata": {},
   "outputs": [],
   "source": [
    "storage.save_all_storage_to_dir(dir = dir)\n"
   ]
  },
  {
   "cell_type": "markdown",
   "metadata": {},
   "source": [
    "storage.draw_animation()"
   ]
  },
  {
   "cell_type": "code",
   "execution_count": 7,
   "metadata": {},
   "outputs": [
    {
     "name": "stdout",
     "output_type": "stream",
     "text": [
      "\n",
      "Generating single_plot...\n",
      "peak pulse energy after fibre, Emax =  280.7269000718777\n"
     ]
    }
   ],
   "source": [
    "single_plot(domain.t, temporal_power(sys.field), label=\"after active fiber\")\n",
    "print(\"peak pulse energy after fibre, Emax = \", np.max(temporal_power(sys.field)))"
   ]
  },
  {
   "cell_type": "code",
   "execution_count": 8,
   "metadata": {},
   "outputs": [
    {
     "name": "stdout",
     "output_type": "stream",
     "text": [
      "\n",
      "Generating single_plot...\n",
      "peak pulse energy (spectral) after fibre, Emax(spec) =  1.5866124967318762\n"
     ]
    }
   ],
   "source": [
    "single_plot(domain.nu, spectral_power(sys.field), label=\"after active fiber\")\n",
    "print(\"peak pulse energy (spectral) after fibre, Emax(spec) = \", np.max(spectral_power(sys.field)))"
   ]
  }
 ],
 "metadata": {
  "kernelspec": {
   "display_name": "Python 3.9.12 ('base')",
   "language": "python",
   "name": "python3"
  },
  "language_info": {
   "codemirror_mode": {
    "name": "ipython",
    "version": 3
   },
   "file_extension": ".py",
   "mimetype": "text/x-python",
   "name": "python",
   "nbconvert_exporter": "python",
   "pygments_lexer": "ipython3",
   "version": "3.9.12"
  },
  "orig_nbformat": 4,
  "vscode": {
   "interpreter": {
    "hash": "eb96abac08436d1624d76e5d8f112c5030e44832d5ead8f1f2020dc0b17a3550"
   }
  }
 },
 "nbformat": 4,
 "nbformat_minor": 2
}
