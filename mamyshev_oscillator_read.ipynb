{
 "cells": [
  {
   "cell_type": "code",
   "execution_count": 1,
   "metadata": {},
   "outputs": [
    {
     "name": "stdout",
     "output_type": "stream",
     "text": [
      "OpenclFibre is not activated, check if pyopencl and reikna modules are installed\n"
     ]
    }
   ],
   "source": [
    "import os.path\n",
    "import numpy as np\n",
    "from itertools import cycle\n",
    "import matplotlib.pyplot as plt\n",
    "import matplotlib\n",
    "import pandas as pd\n",
    "matplotlib.use('Qt5Agg')\n",
    "%matplotlib qt5\n",
    "\n",
    "from pyofss import Domain, System, Gaussian, Fibre, Filter, Splitter\n",
    "from pyofss import temporal_power, spectral_power, lambda_to_nu, nu_to_lambda\n",
    "from pyofss import single_plot, map_plot, waterfall_plot, labels\n",
    "from pyofss.field import energy\n",
    "from pyofss import Storage\n",
    "\n",
    "from pyofss.domain import lambda_to_omega\n",
    "from pyofss.modules.nonlinearity import calculate_gamma"
   ]
  },
  {
   "cell_type": "code",
   "execution_count": 2,
   "metadata": {},
   "outputs": [
    {
     "name": "stdout",
     "output_type": "stream",
     "text": [
      "Directory:  C:/Users/Karin/PycharmProjects/pyofss-master/amplification_fiber1  found...\n"
     ]
    },
    {
     "name": "stderr",
     "output_type": "stream",
     "text": [
      "c:\\Users\\Karin\\PycharmProjects\\pyofss-master\\pyofss\\modules\\storage.py:97: UserWarning: Directory is not empty\n",
      "  warnings.warn(\"Directory is not empty\")\n"
     ]
    }
   ],
   "source": [
    "dir = 'C:/Users/Karin/PycharmProjects/pyofss-master/amplification_fiber1'\n",
    "storage = Storage(dir)\n",
    "(x, y, z_temp) = storage.read_all_from_dir()"
   ]
  },
  {
   "cell_type": "code",
   "execution_count": 3,
   "metadata": {},
   "outputs": [
    {
     "data": {
      "text/plain": [
       "<matplotlib.animation.FuncAnimation at 0x1cf070bb4c0>"
      ]
     },
     "execution_count": 3,
     "metadata": {},
     "output_type": "execute_result"
    }
   ],
   "source": [
    "storage.draw_animation()"
   ]
  },
  {
   "cell_type": "code",
   "execution_count": 24,
   "metadata": {},
   "outputs": [
    {
     "data": {
      "text/plain": [
       "<matplotlib.animation.FuncAnimation at 0x1dda6583250>"
      ]
     },
     "execution_count": 24,
     "metadata": {},
     "output_type": "execute_result"
    }
   ],
   "source": [
    "storage.draw_animation()"
   ]
  }
 ],
 "metadata": {
  "kernelspec": {
   "display_name": "Python 3.9.12 ('base')",
   "language": "python",
   "name": "python3"
  },
  "language_info": {
   "codemirror_mode": {
    "name": "ipython",
    "version": 3
   },
   "file_extension": ".py",
   "mimetype": "text/x-python",
   "name": "python",
   "nbconvert_exporter": "python",
   "pygments_lexer": "ipython3",
   "version": "3.9.12"
  },
  "orig_nbformat": 4,
  "vscode": {
   "interpreter": {
    "hash": "eb96abac08436d1624d76e5d8f112c5030e44832d5ead8f1f2020dc0b17a3550"
   }
  }
 },
 "nbformat": 4,
 "nbformat_minor": 2
}
