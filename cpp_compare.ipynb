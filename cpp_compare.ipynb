{
 "cells": [
  {
   "cell_type": "code",
   "execution_count": 4,
   "metadata": {},
   "outputs": [],
   "source": [
    "import sys\n",
    "import numpy as np\n",
    "from pyofss import Domain, System, Sech, Fibre\n",
    "from pyofss.domain import lambda_to_nu, nu_to_lambda\n",
    "from pyofss import map_plot, labels, single_plot, energy"
   ]
  },
  {
   "cell_type": "code",
   "execution_count": null,
   "metadata": {},
   "outputs": [],
   "source": [
    "def dB(num):\n",
    "    return 10 * np.log10(num)\n",
    "\n",
    "domain = Domain(bit_width=10.0, samples_per_bit=2**13,\n",
    "                centre_nu=lambda_to_nu(835.0))\n",
    "\n",
    "P_0 = 3480.      # peak power W\n",
    "width = 0.010   # pulse duration 10 fs\n",
    "gamma = 110     # (W km)^-1\n",
    "\n",
    "beta_full = [0.0, 0.0, -11.830, \n",
    "           8.1038e-2,  -9.5205e-5,   2.0737e-7,  \n",
    "          -5.3943e-10,  1.3486e-12, -2.5495e-15, \n",
    "           3.0524e-18, -1.7140e-21]\n",
    "\n",
    "\n",
    "L_d = (width**2)/abs(beta_full[2])\n",
    "L_nl = 1/(gamma*P_0)\n",
    "\n",
    "z_sol = np.pi/2*L_d\n",
    "print(\" L_nl={:.2f} cm\\n L_d={:.2f} cm\\n z_sol={:.2f}cm\\n N={:.2f}\\n P={:.3f} kW\".format(L_nl*1e5, L_d*1e5, z_sol*1e5, np.abs((L_d/L_nl))**0.5, P_0*1e-3))\n",
    "\n",
    "length = 50*1e-5 # length in km\n",
    "\n",
    "system = System(domain)\n",
    "system.add(Sech(peak_power=P_0, width=width, using_fwhm=True))\n"
   ]
  },
  {
   "cell_type": "code",
   "execution_count": 17,
   "metadata": {},
   "outputs": [
    {
     "name": "stdout",
     "output_type": "stream",
     "text": [
      " L_nl=0.26 cm\n",
      " L_d=0.85 cm\n",
      " z_sol=1.33cm\n",
      " N=1.80\n",
      " P=3.480 kW\n",
      "Using general expression for nonlinearity\n"
     ]
    },
    {
     "name": "stderr",
     "output_type": "stream",
     "text": [
      "c:\\Users\\Karin\\PycharmProjects\\pyofss-master\\pyofss\\modules\\sech.py:137: RuntimeWarning: overflow encountered in cosh\n",
      "  magnitude = sqrt(self.peak_power) / cosh(t_normalised)\n",
      "c:\\Users\\Karin\\PycharmProjects\\pyofss-master\\pyofss\\modules\\storage.py:212: FutureWarning: arrays to stack must be passed as a \"sequence\" type such as list or tuple. Support for non-sequence iterables such as generators is deprecated as of NumPy 1.16 and will raise an error in the future.\n",
      "  As = np.vstack(np.array(f(zs) + 1j * g(zs))\n"
     ]
    },
    {
     "name": "stdout",
     "output_type": "stream",
     "text": [
      "Attempting to reduce storage arrays to specified range...\n",
      "Required range: [230.60958307692306, 599.584916]\n",
      "Actual range: [230.63288383233527, 599.6328838323353]\n"
     ]
    },
    {
     "ename": "KeyError",
     "evalue": "'Raman_response'",
     "output_type": "error",
     "traceback": [
      "\u001b[1;31m---------------------------------------------------------------------------\u001b[0m",
      "\u001b[1;31mKeyError\u001b[0m                                  Traceback (most recent call last)",
      "\u001b[1;32mc:\\Users\\Karin\\PycharmProjects\\pyofss-master\\cpp_compare.ipynb Cell 3\u001b[0m in \u001b[0;36m<cell line: 39>\u001b[1;34m()\u001b[0m\n\u001b[0;32m     <a href='vscode-notebook-cell:/c%3A/Users/Karin/PycharmProjects/pyofss-master/cpp_compare.ipynb#W1sZmlsZQ%3D%3D?line=35'>36</a>\u001b[0m fiber \u001b[39m=\u001b[39m system[\u001b[39m'\u001b[39m\u001b[39mfibre\u001b[39m\u001b[39m'\u001b[39m];\n\u001b[0;32m     <a href='vscode-notebook-cell:/c%3A/Users/Karin/PycharmProjects/pyofss-master/cpp_compare.ipynb#W1sZmlsZQ%3D%3D?line=36'>37</a>\u001b[0m h_R \u001b[39m=\u001b[39m fiber\u001b[39m.\u001b[39mnonlinearity\u001b[39m.\u001b[39mh_R\n\u001b[1;32m---> <a href='vscode-notebook-cell:/c%3A/Users/Karin/PycharmProjects/pyofss-master/cpp_compare.ipynb#W1sZmlsZQ%3D%3D?line=38'>39</a>\u001b[0m single_plot(np\u001b[39m.\u001b[39mlinspace(\u001b[39m0\u001b[39m, \u001b[39mlen\u001b[39m(h_R)), h_R, labels[\u001b[39m\"\u001b[39m\u001b[39mLambda\u001b[39m\u001b[39m\"\u001b[39m], labels[\u001b[39m\"\u001b[39;49m\u001b[39mRaman_response\u001b[39;49m\u001b[39m\"\u001b[39;49m],\n\u001b[0;32m     <a href='vscode-notebook-cell:/c%3A/Users/Karin/PycharmProjects/pyofss-master/cpp_compare.ipynb#W1sZmlsZQ%3D%3D?line=39'>40</a>\u001b[0m          filename\u001b[39m=\u001b[39m\u001b[39m\"\u001b[39m\u001b[39mraman_response\u001b[39m\u001b[39m\"\u001b[39m)\n\u001b[0;32m     <a href='vscode-notebook-cell:/c%3A/Users/Karin/PycharmProjects/pyofss-master/cpp_compare.ipynb#W1sZmlsZQ%3D%3D?line=41'>42</a>\u001b[0m map_plot(x, dB(y\u001b[39m/\u001b[39mnp\u001b[39m.\u001b[39mmax(y)), z, labels[\u001b[39m\"\u001b[39m\u001b[39mnu\u001b[39m\u001b[39m\"\u001b[39m], labels[\u001b[39m\"\u001b[39m\u001b[39mP_nu\u001b[39m\u001b[39m\"\u001b[39m], z_label,\n\u001b[0;32m     <a href='vscode-notebook-cell:/c%3A/Users/Karin/PycharmProjects/pyofss-master/cpp_compare.ipynb#W1sZmlsZQ%3D%3D?line=42'>43</a>\u001b[0m          filename\u001b[39m=\u001b[39m\u001b[39m\"\u001b[39m\u001b[39mpyofss_fig8_map_nu\u001b[39m\u001b[39m\"\u001b[39m, y_range\u001b[39m=\u001b[39m(\u001b[39m-\u001b[39m\u001b[39m40.0\u001b[39m, \u001b[39m0\u001b[39m))\n\u001b[0;32m     <a href='vscode-notebook-cell:/c%3A/Users/Karin/PycharmProjects/pyofss-master/cpp_compare.ipynb#W1sZmlsZQ%3D%3D?line=44'>45</a>\u001b[0m single_plot(nu_to_lambda(x), y[\u001b[39m0\u001b[39m], labels[\u001b[39m\"\u001b[39m\u001b[39mLambda\u001b[39m\u001b[39m\"\u001b[39m], labels[\u001b[39m\"\u001b[39m\u001b[39mP_lambda\u001b[39m\u001b[39m\"\u001b[39m],\n\u001b[0;32m     <a href='vscode-notebook-cell:/c%3A/Users/Karin/PycharmProjects/pyofss-master/cpp_compare.ipynb#W1sZmlsZQ%3D%3D?line=45'>46</a>\u001b[0m          filename\u001b[39m=\u001b[39m\u001b[39m\"\u001b[39m\u001b[39mpyofss_fig8_pulse_before_fibre\u001b[39m\u001b[39m\"\u001b[39m, use_fill\u001b[39m=\u001b[39m\u001b[39mFalse\u001b[39;00m)\n",
      "\u001b[1;31mKeyError\u001b[0m: 'Raman_response'"
     ]
    }
   ],
   "source": [
    "def dB(num):\n",
    "    return 10 * np.log10(num)\n",
    "\n",
    "domain = Domain(bit_width=10.0, samples_per_bit=2**13,\n",
    "                centre_nu=lambda_to_nu(835.0))\n",
    "\n",
    "P_0 = 3480.      # peak power W\n",
    "width = 0.010   # pulse duration 10 fs\n",
    "gamma = 110     # (W km)^-1\n",
    "\n",
    "beta_full = [0.0, 0.0, -11.830, \n",
    "           8.1038e-2,  -9.5205e-5,   2.0737e-7,  \n",
    "          -5.3943e-10,  1.3486e-12, -2.5495e-15, \n",
    "           3.0524e-18, -1.7140e-21]\n",
    "\n",
    "\n",
    "L_d = (width**2)/abs(beta_full[2])\n",
    "L_nl = 1/(gamma*P_0)\n",
    "\n",
    "z_sol = np.pi/2*L_d\n",
    "print(\" L_nl={:.2f} cm\\n L_d={:.2f} cm\\n z_sol={:.2f}cm\\n N={:.2f}\\n P={:.3f} kW\".format(L_nl*1e5, L_d*1e5, z_sol*1e5, np.abs((L_d/L_nl))**0.5, P_0*1e-3))\n",
    "\n",
    "length = 50*1e-5 # length in km\n",
    "\n",
    "system = System(domain)\n",
    "system.add(Sech(peak_power=P_0, width=width, using_fwhm=True))\n",
    "system.add(Fibre(length=length, gamma=gamma, beta=beta_full, self_steepening=True, use_all='hollenbeck',\n",
    "                 total_steps=100, traces=100, method='ARK4IP', local_error=0.005))\n",
    "system.run()\n",
    "\n",
    "storage = system['fibre'].stepper.storage\n",
    "(x, y, z_temp) = storage.get_plot_data(False, (lambda_to_nu(1300), lambda_to_nu(500)), True)\n",
    "z_label = r\"Fibre length, $z \\, (m)$\"\n",
    "z = z_temp * 1.0e3\n",
    "\n",
    "fiber = system['fibre'];\n",
    "h_R = fiber.nonlinearity.h_R\n",
    "\n",
    "# single_plot(np.linspace(0, len(h_R)), h_R, labels[\"Lambda\"], labels[\"Raman_response\"],\n",
    "#          filename=\"raman_response\")\n",
    "\n",
    "map_plot(x, dB(y/np.max(y)), z, labels[\"nu\"], labels[\"P_nu\"], z_label,\n",
    "         filename=\"pyofss_fig8_map_nu\", y_range=(-40.0, 0))\n",
    "\n",
    "single_plot(nu_to_lambda(x), y[0], labels[\"Lambda\"], labels[\"P_lambda\"],\n",
    "         filename=\"pyofss_fig8_pulse_before_fibre\", use_fill=False)\n",
    "\n",
    "np.savetxt('before_fibre.dat', y[0])\n",
    "\n",
    "single_plot(nu_to_lambda(x), y[-1], labels[\"Lambda\"], labels[\"P_lambda\"],\n",
    "         filename=\"pyofss_fig8_lambda\", use_fill=False)\n",
    "\n",
    "np.savetxt('after_fibre.dat', y[-1])\n",
    "\n",
    "(x, y, z_temp) = storage.get_plot_data(reduced_range=(-1, 4))\n",
    "z = z_temp * 1.0e3\n",
    "\n",
    "map_plot(x, dB(y/np.max(y)), z, labels[\"t\"], labels[\"P_t\"], z_label,\n",
    "        filename=\"pyofss_fig8_map_t\", y_range=(-40.0, 0))\n",
    "\n",
    "single_plot(x, y[-1], labels[\"t\"], labels[\"P_lambda\"],\n",
    "         filename=\"pyofss_fig8_t\", use_fill=False)"
   ]
  },
  {
   "cell_type": "code",
   "execution_count": null,
   "metadata": {},
   "outputs": [],
   "source": []
  }
 ],
 "metadata": {
  "kernelspec": {
   "display_name": "Python 3.9.12 ('base')",
   "language": "python",
   "name": "python3"
  },
  "language_info": {
   "codemirror_mode": {
    "name": "ipython",
    "version": 3
   },
   "file_extension": ".py",
   "mimetype": "text/x-python",
   "name": "python",
   "nbconvert_exporter": "python",
   "pygments_lexer": "ipython3",
   "version": "3.9.12"
  },
  "orig_nbformat": 4,
  "vscode": {
   "interpreter": {
    "hash": "eb96abac08436d1624d76e5d8f112c5030e44832d5ead8f1f2020dc0b17a3550"
   }
  }
 },
 "nbformat": 4,
 "nbformat_minor": 2
}
