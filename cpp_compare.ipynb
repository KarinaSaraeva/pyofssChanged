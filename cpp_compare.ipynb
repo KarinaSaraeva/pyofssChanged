{
 "cells": [
  {
   "cell_type": "code",
   "execution_count": 53,
   "metadata": {},
   "outputs": [],
   "source": [
    "import sys\n",
    "import numpy as np\n",
    "from pyofss import Domain, System, Sech, Fibre\n",
    "from pyofss.domain import lambda_to_nu, nu_to_lambda\n",
    "from pyofss import map_plot, labels, single_plot, energy\n",
    "from matplotlib import pyplot as plt"
   ]
  },
  {
   "cell_type": "markdown",
   "metadata": {},
   "source": [
    "import matplotlib\n",
    "from matplotlib import pyplot as plt\n",
    "<!-- %matplotlib qt5\n",
    "matplotlib.use('Qt5Agg') -->"
   ]
  },
  {
   "cell_type": "code",
   "execution_count": 57,
   "metadata": {},
   "outputs": [
    {
     "name": "stdout",
     "output_type": "stream",
     "text": [
      " L_nl=0.26 cm\n",
      " L_d=0.85 cm\n",
      " z_sol=1.33cm\n",
      " N=1.80\n",
      " P=3.480 kW\n",
      "Using general expression for nonlinearity\n"
     ]
    },
    {
     "name": "stderr",
     "output_type": "stream",
     "text": [
      "c:\\Users\\Karin\\PycharmProjects\\pyofss-master\\pyofss\\modules\\sech.py:137: RuntimeWarning: overflow encountered in cosh\n",
      "  magnitude = sqrt(self.peak_power) / cosh(t_normalised)\n",
      "c:\\Users\\Karin\\PycharmProjects\\pyofss-master\\pyofss\\modules\\storage.py:212: FutureWarning: arrays to stack must be passed as a \"sequence\" type such as list or tuple. Support for non-sequence iterables such as generators is deprecated as of NumPy 1.16 and will raise an error in the future.\n",
      "  As = np.vstack(np.array(f(zs) + 1j * g(zs))\n"
     ]
    },
    {
     "name": "stdout",
     "output_type": "stream",
     "text": [
      "Attempting to reduce storage arrays to specified range...\n",
      "Required range: [230.60958307692306, 599.584916]\n",
      "Actual range: [230.63288383233527, 599.6328838323353]\n",
      "\n",
      "Generating map_plot...\n",
      "Wrote file pyofss_fig8_map_nu\n",
      "\n",
      "Generating single_plot...\n",
      "Wrote file before_fibre_lambda\n",
      "\n",
      "Generating single_plot...\n",
      "Wrote file after_fibre_lambda\n"
     ]
    }
   ],
   "source": [
    "def dB(num):\n",
    "    return 10 * np.log10(num)\n",
    "\n",
    "domain = Domain(bit_width=10.0, samples_per_bit=2**13,\n",
    "                centre_nu=lambda_to_nu(835.0))\n",
    "\n",
    "P_0 = 3480.      # peak power W\n",
    "width = 0.010   # pulse duration 10 fs\n",
    "gamma = 110     # (W km)^-1\n",
    "\n",
    "beta_full = [0.0, 0.0, -11.830, \n",
    "           8.1038e-2,  -9.5205e-5,   2.0737e-7,  \n",
    "          -5.3943e-10,  1.3486e-12, -2.5495e-15, \n",
    "           3.0524e-18, -1.7140e-21]\n",
    "\n",
    "\n",
    "L_d = (width**2)/abs(beta_full[2])\n",
    "L_nl = 1/(gamma*P_0)\n",
    "\n",
    "z_sol = np.pi/2*L_d\n",
    "print(\" L_nl={:.2f} cm\\n L_d={:.2f} cm\\n z_sol={:.2f}cm\\n N={:.2f}\\n P={:.3f} kW\".format(L_nl*1e5, L_d*1e5, z_sol*1e5, np.abs((L_d/L_nl))**0.5, P_0*1e-3))\n",
    "\n",
    "length = 50*1e-5 # length in km\n",
    "\n",
    "system = System(domain)\n",
    "system.add(Sech(peak_power=P_0, width=width, using_fwhm=True))\n",
    "system.add(Fibre(length=length, gamma=gamma, beta=beta_full, self_steepening=True, use_all='hollenbeck',\n",
    "                 total_steps=100, traces=100, method='ARK4IP', local_error=0.005))\n",
    "system.run()\n",
    "\n",
    "storage = system['fibre'].stepper.storage\n",
    "(x, y, z_temp) = storage.get_plot_data(False, (lambda_to_nu(1300), lambda_to_nu(500)), True)\n",
    "z_label = r\"Fibre length, $z \\, (m)$\"\n",
    "z = z_temp * 1.0e3\n",
    "\n",
    "fiber = system['fibre']\n",
    "h_R = fiber.nonlinearity.h_R\n",
    "\n",
    "map_plot(x, dB(y/np.max(y)), z, labels[\"nu\"], labels[\"P_nu\"], z_label,\n",
    "         filename=\"pyofss_fig8_map_nu\", y_range=(-40.0, 0))\n",
    "\n",
    "single_plot(nu_to_lambda(x), y[0], labels[\"Lambda\"], labels[\"P_lambda\"],\n",
    "         filename=\"before_fibre_lambda\", use_fill=False)\n",
    "\n",
    "np.savetxt('before_fibre_lambda.dat', np.column_stack(np.array([nu_to_lambda(x), y[0]])), delimiter=' ')\n",
    "\n",
    "single_plot(nu_to_lambda(x), y[-1], labels[\"Lambda\"], labels[\"P_lambda\"],\n",
    "         filename=\"after_fibre_lambda\", use_fill=False)\n",
    "\n",
    "np.savetxt('after_fibre_lambda.dat', np.column_stack(np.array([nu_to_lambda(x),  y[-1]])), delimiter=' ')"
   ]
  },
  {
   "cell_type": "code",
   "execution_count": 62,
   "metadata": {},
   "outputs": [
    {
     "name": "stdout",
     "output_type": "stream",
     "text": [
      "\n",
      "Generating single_plot...\n",
      "Wrote file raman_response\n"
     ]
    },
    {
     "name": "stderr",
     "output_type": "stream",
     "text": [
      "c:\\Users\\Karin\\anaconda3\\lib\\site-packages\\matplotlib\\cbook\\__init__.py:1298: ComplexWarning: Casting complex values to real discards the imaginary part\n",
      "  return np.asarray(x, float)\n",
      "c:\\Users\\Karin\\anaconda3\\lib\\site-packages\\matplotlib\\cbook\\__init__.py:1298: ComplexWarning: Casting complex values to real discards the imaginary part\n",
      "  return np.asarray(x, float)\n"
     ]
    }
   ],
   "source": [
    "font = {'family': 'serif',\n",
    "        'color':  'black',\n",
    "        'weight': 'normal',\n",
    "        'size': 25,\n",
    "        }\n",
    "\n",
    "plt.plot(domain.t - domain.t.min(), ifft(h_R), 'black', linewidth=2)\n",
    "\n",
    "plt.title(\"Raman_response, normalised\",\n",
    "          fontsize=25, color='black')\n",
    "plt.xlabel('t - t_0', fontdict=font)\n",
    "plt.ylabel('a. u.', fontdict=font)\n",
    "\n",
    "plt.show()\n",
    "\n",
    "single_plot(domain.t - domain.t.min(), ifft(h_R), \"t - t_0 [pc]\", \"Raman response (a. u.)\",\n",
    "         filename=\"raman_response\", use_fill=False)\n",
    "\n",
    "np.savetxt('raman_response.dat', np.column_stack(np.array([domain.t - domain.t.min(),  ifft(h_R)])), delimiter=' ')"
   ]
  },
  {
   "cell_type": "code",
   "execution_count": 63,
   "metadata": {},
   "outputs": [
    {
     "name": "stdout",
     "output_type": "stream",
     "text": [
      "Attempting to reduce storage arrays to specified range...\n",
      "Required range: [-1, 4]\n",
      "Actual range: [-0.999755859375, 4.000244140625]\n",
      "\n",
      "Generating map_plot...\n"
     ]
    },
    {
     "name": "stderr",
     "output_type": "stream",
     "text": [
      "C:\\Users\\Karin\\AppData\\Local\\Temp\\ipykernel_19032\\2681115962.py:2: RuntimeWarning: divide by zero encountered in log10\n",
      "  return 10 * np.log10(num)\n"
     ]
    },
    {
     "name": "stdout",
     "output_type": "stream",
     "text": [
      "Wrote file pyofss_fig8_map_t\n"
     ]
    }
   ],
   "source": [
    "(x, y, z_temp) = storage.get_plot_data(True, reduced_range=(-1, 4))\n",
    "z = z_temp * 1.0e3\n",
    "\n",
    "map_plot(x, dB(y/np.max(y)), z, labels[\"t\"], labels[\"P_t\"], z_label,\n",
    "        filename=\"pyofss_fig8_map_t\", y_range=(-40.0, 0))"
   ]
  },
  {
   "cell_type": "code",
   "execution_count": 64,
   "metadata": {},
   "outputs": [
    {
     "name": "stdout",
     "output_type": "stream",
     "text": [
      "\n",
      "Generating single_plot...\n",
      "Wrote file before_fibre_t\n"
     ]
    }
   ],
   "source": [
    "single_plot(x, y[0], labels[\"t\"], labels[\"P_lambda\"],\n",
    "         filename=\"before_fibre_t\", use_fill=False)\n",
    "\n",
    "np.savetxt('before_fibre_t.dat', np.column_stack(np.array([x,  y[0]])), delimiter=' ')"
   ]
  },
  {
   "cell_type": "code",
   "execution_count": 65,
   "metadata": {},
   "outputs": [
    {
     "name": "stdout",
     "output_type": "stream",
     "text": [
      "\n",
      "Generating single_plot...\n",
      "Wrote file after_fibre_t\n"
     ]
    }
   ],
   "source": [
    "single_plot(x, y[-1], labels[\"t\"], labels[\"P_lambda\"],\n",
    "         filename=\"after_fibre_t\", use_fill=False)\n",
    "\n",
    "np.savetxt('after_fibre_t.dat', np.column_stack(np.array([x,  y[-1]])), delimiter=' ')"
   ]
  },
  {
   "cell_type": "code",
   "execution_count": null,
   "metadata": {},
   "outputs": [],
   "source": []
  }
 ],
 "metadata": {
  "kernelspec": {
   "display_name": "Python 3.9.12 ('base')",
   "language": "python",
   "name": "python3"
  },
  "language_info": {
   "codemirror_mode": {
    "name": "ipython",
    "version": 3
   },
   "file_extension": ".py",
   "mimetype": "text/x-python",
   "name": "python",
   "nbconvert_exporter": "python",
   "pygments_lexer": "ipython3",
   "version": "3.9.12"
  },
  "orig_nbformat": 4,
  "vscode": {
   "interpreter": {
    "hash": "eb96abac08436d1624d76e5d8f112c5030e44832d5ead8f1f2020dc0b17a3550"
   }
  }
 },
 "nbformat": 4,
 "nbformat_minor": 2
}
